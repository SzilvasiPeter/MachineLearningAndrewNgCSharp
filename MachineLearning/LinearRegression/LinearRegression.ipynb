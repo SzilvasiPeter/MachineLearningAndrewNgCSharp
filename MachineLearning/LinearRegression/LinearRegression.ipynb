{
 "cells": [
  {
   "cell_type": "code",
   "execution_count": 2,
   "id": "b0a70c95",
   "metadata": {},
   "outputs": [
    {
     "name": "stderr",
     "output_type": "stream",
     "text": [
      "\r\n",
      "(2,7): error CS0246: The type or namespace name 'XPlot' could not be found (are you missing a using directive or an assembly reference?)\r\n",
      "\r\n",
      "(4,7): error CS0246: The type or namespace name 'Deedle' could not be found (are you missing a using directive or an assembly reference?)\r\n",
      "\r\n"
     ]
    },
    {
     "ename": "Cell not executed",
     "evalue": "compilation error",
     "output_type": "error",
     "traceback": []
    }
   ],
   "source": [
    "using System;\n",
    "using XPlot.Plotly;\n",
    "using System.Linq;\n",
    "using Deedle;"
   ]
  },
  {
   "cell_type": "code",
   "execution_count": null,
   "id": "8cb40032",
   "metadata": {},
   "outputs": [],
   "source": []
  }
 ],
 "metadata": {
  "kernelspec": {
   "display_name": ".NET (C#)",
   "language": "C#",
   "name": ".net-csharp"
  },
  "language_info": {
   "file_extension": ".cs",
   "mimetype": "text/x-csharp",
   "name": "C#",
   "pygments_lexer": "csharp",
   "version": "9.0"
  }
 },
 "nbformat": 4,
 "nbformat_minor": 5
}
